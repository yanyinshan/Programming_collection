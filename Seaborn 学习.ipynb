{
 "cells": [
  {
   "cell_type": "markdown",
   "metadata": {},
   "source": [
    "<font size=17>Seaborn 学习</font>\n",
    "\n",
    "Seaborn是Python中的一个制图工具库\n",
    "\n",
    "在Matplotlib上构建，支持numpy和pandas的数据结构可视化\n",
    "\n",
    "Seaborn比Matplotlib更简洁易用\n",
    "\n",
    "特点\n",
    "\n",
    "a.多个颜色主题\n",
    "\n",
    "b.可视化单变量、二维变量用于比较数据集中各变量的分布情况\n",
    "\n",
    "c.可视化线性回归模型中的变量\n",
    "\n",
    "d.可视化矩阵数据，通过聚类算法探究矩阵间的结构\n",
    "\n",
    "e.可视化时间序列数据及不确定性\n",
    "\n",
    "f.可在分割区域制图，用于复杂的可视化"
   ]
  },
  {
   "cell_type": "code",
   "execution_count": null,
   "metadata": {},
   "outputs": [],
   "source": []
  }
 ],
 "metadata": {
  "kernelspec": {
   "display_name": "Python 3",
   "language": "python",
   "name": "python3"
  },
  "language_info": {
   "codemirror_mode": {
    "name": "ipython",
    "version": 3
   },
   "file_extension": ".py",
   "mimetype": "text/x-python",
   "name": "python",
   "nbconvert_exporter": "python",
   "pygments_lexer": "ipython3",
   "version": "3.7.6"
  },
  "toc": {
   "base_numbering": 1,
   "nav_menu": {},
   "number_sections": true,
   "sideBar": true,
   "skip_h1_title": false,
   "title_cell": "Table of Contents",
   "title_sidebar": "Contents",
   "toc_cell": false,
   "toc_position": {},
   "toc_section_display": true,
   "toc_window_display": false
  }
 },
 "nbformat": 4,
 "nbformat_minor": 4
}
