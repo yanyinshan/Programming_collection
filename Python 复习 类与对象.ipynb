{
 "cells": [
  {
   "cell_type": "code",
   "execution_count": 1,
   "metadata": {},
   "outputs": [],
   "source": [
    "class Cat: # 定义类的时候不用加小括号\n",
    "    # 属性\n",
    "    \n",
    "    # 方法\n",
    "    def eat(self):\n",
    "        print(\"---吃---\")\n",
    "    \n",
    "    def drink(self):\n",
    "        print(\"---喝---\")\n",
    "    \n",
    "    def sleep(self):\n",
    "        print(\"---睡觉---\")"
   ]
  },
  {
   "cell_type": "code",
   "execution_count": 2,
   "metadata": {},
   "outputs": [
    {
     "name": "stdout",
     "output_type": "stream",
     "text": [
      "---吃---\n"
     ]
    }
   ],
   "source": [
    "# 创建一个 猫 对象\n",
    "xiaohuamao = Cat()\n",
    "xiaohuamao.eat()"
   ]
  },
  {
   "cell_type": "code",
   "execution_count": 3,
   "metadata": {},
   "outputs": [],
   "source": [
    "# 给特定对象赋予属性\n",
    "\n",
    "xiaohuamao.color = '花色'\n",
    "xiaohuamao.weight = 5 \n",
    "xiaohuamao.tail = '有'"
   ]
  },
  {
   "cell_type": "code",
   "execution_count": 4,
   "metadata": {},
   "outputs": [
    {
     "name": "stdout",
     "output_type": "stream",
     "text": [
      "花色\n"
     ]
    }
   ],
   "source": [
    "# 直接取出值\n",
    "print(xiaohuamao.color)"
   ]
  },
  {
   "cell_type": "code",
   "execution_count": 5,
   "metadata": {},
   "outputs": [],
   "source": [
    "class Cat: \n",
    "    # 属性\n",
    "    \n",
    "    # 方法\n",
    "    def eat(self):\n",
    "        print(\"---吃---\")\n",
    "    \n",
    "    def drink(self):\n",
    "        print(\"---喝---\")\n",
    "    \n",
    "    def sleep(self):\n",
    "        print(\"---睡觉---\")\n",
    "        \n",
    "    def printInfo(self):\n",
    "        print(self.tail)        "
   ]
  },
  {
   "cell_type": "code",
   "execution_count": 6,
   "metadata": {},
   "outputs": [],
   "source": [
    "xiaohuamao = Cat()\n",
    "xiaohuamao.tail = '有'"
   ]
  },
  {
   "cell_type": "code",
   "execution_count": 7,
   "metadata": {},
   "outputs": [
    {
     "name": "stdout",
     "output_type": "stream",
     "text": [
      "有\n"
     ]
    }
   ],
   "source": [
    "xiaohuamao.printInfo()"
   ]
  },
  {
   "cell_type": "code",
   "execution_count": 17,
   "metadata": {},
   "outputs": [],
   "source": [
    "# __init__() \n",
    "# 当创建完一个对象后，会立马自动调用，不需要开发者调用\n",
    "# 这个方法一般情况下会完成一些默认的事情，比如添加一些属性\n",
    "\n",
    "class Cat: \n",
    "    # 属性\n",
    "    \n",
    "    def __init__(self, newColor, newWeight, newTail):\n",
    "        self.color = newColor\n",
    "        self.weight = newWeight\n",
    "        self.tail = newTail\n",
    "        print('对象创建成功')\n",
    "    \n",
    "    # 方法\n",
    "    def eat(self):\n",
    "        print(\"---吃---\")\n",
    "    \n",
    "    def drink(self):\n",
    "        print(\"---喝---\")\n",
    "    \n",
    "    def sleep(self, a, b):\n",
    "        print(\"---睡觉---\")\n",
    "        print(\"---a = %d, b = %d ----\"%(a,b))\n",
    "        \n",
    "    def printInfo(self):\n",
    "        print(self.tail)    \n",
    "    "
   ]
  },
  {
   "cell_type": "code",
   "execution_count": 18,
   "metadata": {},
   "outputs": [
    {
     "name": "stdout",
     "output_type": "stream",
     "text": [
      "对象创建成功\n"
     ]
    }
   ],
   "source": [
    "xiaohuamao = Cat(\"花色\", 5, \"有\") # 在创建对象的参数中，所有的参数会传给init"
   ]
  },
  {
   "cell_type": "code",
   "execution_count": 19,
   "metadata": {},
   "outputs": [
    {
     "data": {
      "text/plain": [
       "5"
      ]
     },
     "execution_count": 19,
     "metadata": {},
     "output_type": "execute_result"
    }
   ],
   "source": [
    "xiaohuamao.weight"
   ]
  },
  {
   "cell_type": "code",
   "execution_count": 21,
   "metadata": {},
   "outputs": [
    {
     "name": "stdout",
     "output_type": "stream",
     "text": [
      "颜色为：白\n"
     ]
    }
   ],
   "source": [
    "class Dog:\n",
    "    def __init__(self,newColor):\n",
    "        self.color = newColor\n",
    "    \n",
    "    def bark(self):\n",
    "        print(\"汪汪\")\n",
    "        \n",
    "    def printColor(self):\n",
    "        print(\"颜色为：%s\"%self.color)\n",
    "\n",
    "wangcai = Dog('白')\n",
    "wangcai.printColor()"
   ]
  },
  {
   "cell_type": "markdown",
   "metadata": {},
   "source": [
    "# 魔法方法"
   ]
  },
  {
   "cell_type": "code",
   "execution_count": 22,
   "metadata": {},
   "outputs": [
    {
     "name": "stdout",
     "output_type": "stream",
     "text": [
      "<__main__.Dog object at 0x000001F5E41E2B08>\n",
      "2155605797640\n"
     ]
    }
   ],
   "source": [
    "print(wangcai)\n",
    "# 返回内存地址\n",
    "\n",
    "print(id(wangcai))\n",
    "# 返回的"
   ]
  },
  {
   "cell_type": "markdown",
   "metadata": {},
   "source": [
    "## __str__"
   ]
  },
  {
   "cell_type": "code",
   "execution_count": 23,
   "metadata": {},
   "outputs": [],
   "source": [
    "class Dog:\n",
    "    def __init__(self,newColor):\n",
    "        self.color = newColor\n",
    "    \n",
    "    def bark(self):\n",
    "        print(\"汪汪\")\n",
    "        \n",
    "    def printColor(self):\n",
    "        print(\"颜色为：%s\"%self.color)\n",
    "        \n",
    "    def __str__(self):\n",
    "        return \"haha\" # "
   ]
  },
  {
   "cell_type": "code",
   "execution_count": 24,
   "metadata": {},
   "outputs": [],
   "source": [
    "wangcai = Dog('黑')"
   ]
  },
  {
   "cell_type": "code",
   "execution_count": 25,
   "metadata": {},
   "outputs": [
    {
     "name": "stdout",
     "output_type": "stream",
     "text": [
      "haha\n"
     ]
    }
   ],
   "source": [
    "print(wangcai) "
   ]
  },
  {
   "cell_type": "markdown",
   "metadata": {},
   "source": [
    "## 例子-烤地瓜"
   ]
  },
  {
   "cell_type": "code",
   "execution_count": 70,
   "metadata": {},
   "outputs": [],
   "source": [
    "class SweetPotato:\n",
    "    \n",
    "    # 用来完成一些初始化的工作\n",
    "    def __init__(self):\n",
    "        self.cookedLevel = 0\n",
    "        self.cookedString = '生的'\n",
    "        self.condiments = []\n",
    "    \n",
    "    def __str__(self):\n",
    "        return \"地瓜生熟的程度：\" + self.cookedString + \"\\n等级为： \" + str(self.cookedLevel) + \"\\n佐料为\" + str(self.condiments)\n",
    "    \n",
    "    #烤地瓜方法\n",
    "    def cook(self,times):\n",
    "        self.cookedLevel += times\n",
    "        if self.cookedLevel >8:\n",
    "            self.cookedString = '烤糊了'\n",
    "        elif self.cookedLevel > 5:\n",
    "            self.cookedString = '烤好了'\n",
    "        elif self.cookedLevel > 3 :\n",
    "            self.cookedString = '半生不熟'\n",
    "        else:\n",
    "            self.cookedString = '生的'\n",
    "        \n",
    "    # 添加调料\n",
    "    def addCondiments(self,temp):\n",
    "        self.condiments.append(temp)\n",
    "        \n",
    "diGua = SweetPotato()"
   ]
  },
  {
   "cell_type": "code",
   "execution_count": 76,
   "metadata": {},
   "outputs": [
    {
     "name": "stdout",
     "output_type": "stream",
     "text": [
      "地瓜生熟的程度：生的\n",
      "等级为： 0\n",
      "佐料为['芥末酱', '芥末酱', '芥末酱']\n"
     ]
    }
   ],
   "source": [
    "print(diGua)"
   ]
  },
  {
   "cell_type": "code",
   "execution_count": 75,
   "metadata": {},
   "outputs": [],
   "source": [
    "diGua.addCondiments('芥末酱')"
   ]
  },
  {
   "cell_type": "markdown",
   "metadata": {},
   "source": [
    "## 例子- 存放家具"
   ]
  },
  {
   "cell_type": "code",
   "execution_count": null,
   "metadata": {},
   "outputs": [],
   "source": [
    "class Home:\n",
    "    def __init__(self,area):\n",
    "        self.area = area\n",
    "        self.light = 'on'\n",
    "        self.containsItem = []\n",
    "    \n",
    "    def __str__(self):\n",
    "        msg = '当前房间可用面积为：'+ str(self.area)\n",
    "        if len(self.containsItem) > 0 :\n",
    "            msg = msg + \"容纳的物品有：\"\n",
    "            for temp in self.containsItem:\n",
    "                msg = msg + temp.getName() + \", \""
   ]
  }
 ],
 "metadata": {
  "kernelspec": {
   "display_name": "Python 3",
   "language": "python",
   "name": "python3"
  },
  "language_info": {
   "codemirror_mode": {
    "name": "ipython",
    "version": 3
   },
   "file_extension": ".py",
   "mimetype": "text/x-python",
   "name": "python",
   "nbconvert_exporter": "python",
   "pygments_lexer": "ipython3",
   "version": "3.7.6"
  },
  "toc": {
   "base_numbering": 1,
   "nav_menu": {},
   "number_sections": true,
   "sideBar": true,
   "skip_h1_title": false,
   "title_cell": "Table of Contents",
   "title_sidebar": "Contents",
   "toc_cell": false,
   "toc_position": {},
   "toc_section_display": true,
   "toc_window_display": false
  }
 },
 "nbformat": 4,
 "nbformat_minor": 4
}
