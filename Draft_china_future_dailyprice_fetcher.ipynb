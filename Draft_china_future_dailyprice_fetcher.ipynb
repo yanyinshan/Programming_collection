{
 "cells": [
  {
   "cell_type": "markdown",
   "metadata": {},
   "source": [
    "# 从获得期货每日价格并导入Database\n",
    "流程：\n",
    "\n",
    "（1） 制作网址\n",
    "（2）将网址传入，获得页码数据反馈\n",
    "（3）将每一页的数据拔下来"
   ]
  },
  {
   "cell_type": "code",
   "execution_count": 51,
   "metadata": {},
   "outputs": [],
   "source": [
    "from lxml import etree\n",
    "from lxml import html\n",
    "import re\n",
    "import sqlite3\n",
    "import requests"
   ]
  },
  {
   "cell_type": "code",
   "execution_count": 52,
   "metadata": {},
   "outputs": [],
   "source": [
    "def userEnter(contract, startdate, enddate):\n",
    "\n",
    "    url = \"http://vip.stock.finance.sina.com.cn/q/view/vFutures_History.php?jys=czce&pz=MA&hy=MA1909&breed=\" +contract + \"&type=inner&start=\" + startdate +\"&end=\" +enddate\n",
    "    return url"
   ]
  },
  {
   "cell_type": "code",
   "execution_count": 53,
   "metadata": {},
   "outputs": [
    {
     "name": "stdout",
     "output_type": "stream",
     "text": [
      "http://vip.stock.finance.sina.com.cn/q/view/vFutures_History.php?jys=czce&pz=MA&hy=MA1909&breed=AG2012&type=inner&start=2019-01-01&end=2020-05-26\n"
     ]
    }
   ],
   "source": [
    "url = userEnter('AG2012','2019-01-01','2020-05-26')\n",
    "print(url)"
   ]
  },
  {
   "cell_type": "code",
   "execution_count": 54,
   "metadata": {},
   "outputs": [
    {
     "data": {
      "text/plain": [
       "'http://vip.stock.finance.sina.com.cn/q/view/vFutures_History.php?jys=czce&pz=MA&hy=MA1909&breed=AG2012&type=inner&start=2019-01-01&end=2020-05-26'"
      ]
     },
     "execution_count": 54,
     "metadata": {},
     "output_type": "execute_result"
    }
   ],
   "source": [
    "url"
   ]
  },
  {
   "cell_type": "markdown",
   "metadata": {},
   "source": [
    "## 设置一个url list"
   ]
  },
  {
   "cell_type": "code",
   "execution_count": 55,
   "metadata": {},
   "outputs": [],
   "source": [
    "url_prefix = 'http://vip.stock.finance.sina.com.cn/'"
   ]
  },
  {
   "cell_type": "code",
   "execution_count": 56,
   "metadata": {},
   "outputs": [],
   "source": [
    "url_list = []\n",
    "url_list.append(url)"
   ]
  },
  {
   "cell_type": "code",
   "execution_count": 57,
   "metadata": {},
   "outputs": [
    {
     "name": "stdout",
     "output_type": "stream",
     "text": [
      "['http://vip.stock.finance.sina.com.cn/q/view/vFutures_History.php?jys=czce&pz=MA&hy=MA1909&breed=AG2012&type=inner&start=2019-01-01&end=2020-05-26']\n"
     ]
    }
   ],
   "source": [
    "print(url_list)"
   ]
  },
  {
   "cell_type": "markdown",
   "metadata": {},
   "source": [
    "## 找到有多少个link"
   ]
  },
  {
   "cell_type": "code",
   "execution_count": 58,
   "metadata": {},
   "outputs": [],
   "source": [
    "response = requests.get(url)\n",
    "response.encoding = 'gb2312'\n",
    "# print(response.text)\n",
    "with open('sinatest.html', 'w', encoding='gb2312')as f:\n",
    "    f.write(response.text)\n",
    "\n",
    "with open('sinatest.html', 'r')as a:\n",
    "    contend = a.read()\n",
    "tree = etree.HTML(contend)\n",
    "webs = tree.xpath(\"//div[@class = 'historyList']//@href\")    \n",
    "webs = webs[1:(len(webs)-1)]\n",
    "\n",
    "for each in webs:\n",
    "    next_url = url_prefix + each\n",
    "    url_list.append(next_url)"
   ]
  },
  {
   "cell_type": "code",
   "execution_count": 59,
   "metadata": {},
   "outputs": [
    {
     "data": {
      "text/plain": [
       "['http://vip.stock.finance.sina.com.cn/q/view/vFutures_History.php?jys=czce&pz=MA&hy=MA1909&breed=AG2012&type=inner&start=2019-01-01&end=2020-05-26',\n",
       " 'http://vip.stock.finance.sina.com.cn//q//view/vFutures_History.php?page=2&breed=AG2012&start=2019-01-01&end=2020-05-26&jys=czce&pz=MA&hy=MA1909&type=inner&name=大豆1109',\n",
       " 'http://vip.stock.finance.sina.com.cn//q//view/vFutures_History.php?page=3&breed=AG2012&start=2019-01-01&end=2020-05-26&jys=czce&pz=MA&hy=MA1909&type=inner&name=大豆1109']"
      ]
     },
     "execution_count": 59,
     "metadata": {},
     "output_type": "execute_result"
    }
   ],
   "source": [
    "url_list"
   ]
  },
  {
   "cell_type": "code",
   "execution_count": null,
   "metadata": {},
   "outputs": [],
   "source": [
    "response = requests.get(url)\n",
    "response.encoding = 'gb2312'\n",
    "# print(response.text)\n",
    "with open('sinatest.html', 'w', encoding='gb2312')as f:\n",
    "    f.write(response.text)\n",
    "\n",
    "with open('sinatest.html', 'r')as a:\n",
    "    contend = a.read()\n",
    "\n",
    "tree = etree.HTML(contend)\n",
    "for link in tree.xpath(\"//div[@class = 'historyList']//@href\"):\n",
    "    print(link)\n",
    "    #print('1')\n",
    "    url_list = tree.xpath(\"//div[@class = 'historyList']//@href\")\n",
    "    numpage = re.findall('page=(\\d)', url_list[len(url_list) - 2]).pop()\n",
    "    # print(numpage)\n",
    "num = 1\n",
    "for each in range(int(numpage) - 1):\n",
    "    num += 1"
   ]
  },
  {
   "cell_type": "code",
   "execution_count": null,
   "metadata": {},
   "outputs": [],
   "source": []
  },
  {
   "cell_type": "code",
   "execution_count": null,
   "metadata": {},
   "outputs": [],
   "source": []
  },
  {
   "cell_type": "code",
   "execution_count": null,
   "metadata": {},
   "outputs": [],
   "source": []
  },
  {
   "cell_type": "code",
   "execution_count": null,
   "metadata": {},
   "outputs": [],
   "source": [
    "def findAll_url(url):\n",
    "    response = requests.get(url)\n",
    "\n",
    "    response.encoding = 'gb2312'\n",
    "    # print(response.text)\n",
    "    with open('sinatest.html', 'w', encoding='gb2312')as f:\n",
    "        f.write(response.text)\n",
    "\n",
    "    with open('sinatest.html', 'r')as a:\n",
    "        contend = a.read()\n",
    "\n",
    "    tree = etree.HTML(contend)\n",
    "    for link in tree.xpath(\"//div[@class = 'historyList']//@href\"):\n",
    "        print(link)\n",
    "        #print('1')\n",
    "        url_list = tree.xpath(\"//div[@class = 'historyList']//@href\")\n",
    "        numpage = re.findall('page=(\\d)', url_list[len(url_list) - 2]).pop()\n",
    "        # print(numpage)\n",
    "    num = 1\n",
    "    for each in range(int(numpage) - 1):\n",
    "        num += 1\n",
    "        #print(num)"
   ]
  },
  {
   "cell_type": "code",
   "execution_count": 60,
   "metadata": {},
   "outputs": [],
   "source": [
    "def enter_intoDB(url):\n",
    "\n",
    "    response = requests.get(url)\n",
    "\n",
    "    # 显示乱码\n",
    "    # print(response.text)\n",
    "\n",
    "    response.encoding = 'GB18030'\n",
    "    #print(response.text)\n",
    "    with open('sinatest.html', 'w', encoding='GB18030')as f:\n",
    "        f.write(response.text)\n",
    "\n",
    "    with open('sinatest.html', 'r')as a:\n",
    "        contend = a.read()\n",
    "        # print(contend)\n",
    "\n",
    "    tree = etree.HTML(contend)\n",
    "\n",
    "    tablerow = tree.xpath(\"//div[@class = 'historyList']\")[0]\n",
    "\n",
    "    pattern_atribute = re.compile('<.*?>')\n",
    "    pattern_atribute2 = re.compile('(#\\d+)')\n",
    "\n",
    "    text = str(etree.tostring(tablerow))\n",
    "    text2 = pattern_atribute.sub('', text)\n",
    "    text2 = pattern_atribute2.sub('', text2)\n",
    "    #print(text2)\n",
    "    contractName = re.findall('\\(([A-Z]+\\d+)\\)', text2)[0]\n",
    "    # print(re.findall('t(\\d+\\-\\d+\\-\\d+)',text2))\n",
    "    # print(re.findall('t(\\d+)',text2))\n",
    "    dateList = re.findall('t(\\d+\\-\\d+\\-\\d+)', text2)\n",
    "    # print(dateList)\n",
    "    numOfDate = 0\n",
    "    for each in dateList:\n",
    "        numOfDate += 1\n",
    "    print(numOfDate)\n",
    "\n",
    "    dataOfTarget = re.findall('t(\\d+)', text2)\n",
    "    dataOfTarget.reverse()\n",
    "    numOfData = 0\n",
    "    for i in dataOfTarget:\n",
    "        numOfData += 1\n",
    "    print(numOfData)\n",
    "\n",
    "    for each in dateList:\n",
    "        enter_list = []\n",
    "        IDcode = contractName + each\n",
    "        enter_list.append(IDcode)\n",
    "        enter_list.append(contractName)\n",
    "        enter_list.append(each)\n",
    "\n",
    "        # ['MA1909','2019-04-09']\n",
    "        order = 0\n",
    "        for i in range(6):\n",
    "            order += 1\n",
    "            if order < 2:\n",
    "                dataOfTarget.pop()\n",
    "            else:\n",
    "                enter_list.append(dataOfTarget.pop())\n",
    "        \n",
    "        print(enter_list)"
   ]
  },
  {
   "cell_type": "code",
   "execution_count": 61,
   "metadata": {},
   "outputs": [
    {
     "name": "stdout",
     "output_type": "stream",
     "text": [
      "40\n",
      "240\n",
      "['AG20122020-05-26', 'AG2012', '2020-05-26', '4288', '4195', '4319', '4180', '1012424']\n",
      "['AG20122020-05-25', 'AG2012', '2020-05-25', '4167', '4198', '4250', '4153', '1122137']\n",
      "['AG20122020-05-22', 'AG2012', '2020-05-22', '4150', '4226', '4247', '4100', '1314484']\n",
      "['AG20122020-05-21', 'AG2012', '2020-05-21', '4214', '4289', '4326', '4190', '965581']\n",
      "['AG20122020-05-20', 'AG2012', '2020-05-20', '4329', '4203', '4346', '4195', '1109965']\n",
      "['AG20122020-05-19', 'AG2012', '2020-05-19', '4190', '4243', '4261', '4138', '937585']\n",
      "['AG20122020-05-18', 'AG2012', '2020-05-18', '4248', '4090', '4248', '4030', '708216']\n",
      "['AG20122020-05-15', 'AG2012', '2020-05-15', '4005', '3825', '4034', '3811', '622050']\n",
      "['AG20122020-05-14', 'AG2012', '2020-05-14', '3831', '3843', '3858', '3775', '266206']\n",
      "['AG20122020-05-13', 'AG2012', '2020-05-13', '3821', '3811', '3844', '3789', '228065']\n",
      "['AG20122020-05-12', 'AG2012', '2020-05-12', '3795', '3811', '3831', '3771', '198351']\n",
      "['AG20122020-05-11', 'AG2012', '2020-05-11', '3818', '3800', '3852', '3501', '309218']\n",
      "['AG20122020-05-08', 'AG2012', '2020-05-08', '3814', '3703', '3832', '3700', '277038']\n",
      "['AG20122020-05-07', 'AG2012', '2020-05-07', '3682', '3700', '3704', '3672', '107694']\n",
      "['AG20122020-05-06', 'AG2012', '2020-05-06', '3705', '3634', '3729', '3634', '79487']\n",
      "['AG20122020-04-30', 'AG2012', '2020-04-30', '3735', '3722', '3740', '3687', '76005']\n",
      "['AG20122020-04-29', 'AG2012', '2020-04-29', '3698', '3690', '3723', '3671', '46632']\n",
      "['AG20122020-04-28', 'AG2012', '2020-04-28', '3638', '3729', '3729', '3621', '99556']\n",
      "['AG20122020-04-27', 'AG2012', '2020-04-27', '3712', '3751', '3776', '3707', '58850']\n",
      "['AG20122020-04-24', 'AG2012', '2020-04-24', '3754', '3707', '3763', '3700', '49370']\n",
      "['AG20122020-04-23', 'AG2012', '2020-04-23', '3735', '3650', '3767', '3650', '74567']\n",
      "['AG20122020-04-22', 'AG2012', '2020-04-22', '3587', '3675', '3675', '3577', '83952']\n",
      "['AG20122020-04-21', 'AG2012', '2020-04-21', '3734', '3723', '3764', '3702', '58911']\n",
      "['AG20122020-04-20', 'AG2012', '2020-04-20', '3713', '3675', '3742', '3661', '56340']\n",
      "['AG20122020-04-17', 'AG2012', '2020-04-17', '3726', '3778', '3805', '3665', '70157']\n",
      "['AG20122020-04-16', 'AG2012', '2020-04-16', '3817', '3752', '3824', '3720', '52869']\n",
      "['AG20122020-04-15', 'AG2012', '2020-04-15', '3744', '3823', '3866', '3736', '49353']\n",
      "['AG20122020-04-14', 'AG2012', '2020-04-14', '3818', '3768', '3851', '3751', '54639']\n",
      "['AG20122020-04-13', 'AG2012', '2020-04-13', '3738', '3782', '3788', '3675', '53994']\n",
      "['AG20122020-04-10', 'AG2012', '2020-04-10', '3762', '3789', '3808', '3755', '24186']\n",
      "['AG20122020-04-09', 'AG2012', '2020-04-09', '3733', '3700', '3738', '3700', '20623']\n",
      "['AG20122020-04-08', 'AG2012', '2020-04-08', '3721', '3715', '3749', '3676', '41899']\n",
      "['AG20122020-04-07', 'AG2012', '2020-04-07', '3798', '3799', '3829', '3738', '40126']\n",
      "['AG20122020-04-03', 'AG2012', '2020-04-03', '3584', '3590', '3598', '3543', '41023']\n",
      "['AG20122020-04-02', 'AG2012', '2020-04-02', '3527', '3433', '3534', '3420', '35174']\n",
      "['AG20122020-04-01', 'AG2012', '2020-04-01', '3442', '3439', '3458', '3422', '21397']\n",
      "['AG20122020-03-31', 'AG2012', '2020-03-31', '3467', '3411', '3482', '3411', '30364']\n",
      "['AG20122020-03-30', 'AG2012', '2020-03-30', '3402', '3547', '3550', '3387', '56143']\n",
      "['AG20122020-03-27', 'AG2012', '2020-03-27', '3603', '3520', '3624', '3520', '37512']\n",
      "['AG20122020-03-26', 'AG2012', '2020-03-26', '3555', '3566', '3579', '3517', '45344']\n",
      "40\n",
      "240\n",
      "['AG20122020-03-25', 'AG2012', '2020-03-25', '3572', '3570', '3588', '3500', '68182']\n",
      "['AG20122020-03-24', 'AG2012', '2020-03-24', '3383', '3383', '3383', '3283', '37906']\n",
      "['AG20122020-03-23', 'AG2012', '2020-03-23', '3171', '3168', '3198', '3116', '78101']\n",
      "['AG20122020-03-20', 'AG2012', '2020-03-20', '3184', '3018', '3184', '3010', '88190']\n",
      "['AG20122020-03-19', 'AG2012', '2020-03-19', '2979', '2988', '3033', '2904', '97088']\n",
      "['AG20122020-03-18', 'AG2012', '2020-03-18', '3048', '3199', '3199', '2996', '102354']\n",
      "['AG20122020-03-17', 'AG2012', '2020-03-17', '3244', '3244', '3248', '3244', '14683']\n",
      "['AG20122020-03-16', 'AG2012', '2020-03-16', '3598', '3598', '3632', '3598', '40935']\n",
      "['AG20122020-03-13', 'AG2012', '2020-03-13', '3831', '3812', '3896', '3812', '35183']\n",
      "['AG20122020-03-12', 'AG2012', '2020-03-12', '4042', '4122', '4129', '4002', '16626']\n",
      "['AG20122020-03-11', 'AG2012', '2020-03-11', '4138', '4141', '4162', '4122', '7300']\n",
      "['AG20122020-03-10', 'AG2012', '2020-03-10', '4136', '4086', '4146', '4047', '16825']\n",
      "['AG20122020-03-09', 'AG2012', '2020-03-09', '4044', '4200', '4238', '4003', '35704']\n",
      "['AG20122020-03-06', 'AG2012', '2020-03-06', '4232', '4252', '4271', '4216', '18324']\n",
      "['AG20122020-03-05', 'AG2012', '2020-03-05', '4206', '4218', '4218', '4189', '11329']\n",
      "['AG20122020-03-04', 'AG2012', '2020-03-04', '4218', '4220', '4239', '4200', '16884']\n",
      "['AG20122020-03-03', 'AG2012', '2020-03-03', '4137', '4149', '4183', '4121', '10437']\n",
      "['AG20122020-03-02', 'AG2012', '2020-03-02', '4160', '4150', '4186', '4126', '18576']\n",
      "['AG20122020-02-28', 'AG2012', '2020-02-28', '4228', '4393', '4416', '4187', '22838']\n",
      "['AG20122020-02-27', 'AG2012', '2020-02-27', '4447', '4452', '4476', '4432', '12819']\n",
      "['AG20122020-02-26', 'AG2012', '2020-02-26', '4469', '4480', '4506', '4449', '16823']\n",
      "['AG20122020-02-25', 'AG2012', '2020-02-25', '4519', '4615', '4615', '4508', '9658']\n",
      "['AG20122020-02-24', 'AG2012', '2020-02-24', '4620', '4619', '4660', '4602', '5602']\n",
      "['AG20122020-02-21', 'AG2012', '2020-02-21', '4589', '4552', '4600', '4552', '4998']\n",
      "['AG20122020-02-20', 'AG2012', '2020-02-20', '4532', '4533', '4561', '4510', '5396']\n",
      "['AG20122020-02-19', 'AG2012', '2020-02-19', '4520', '4480', '4532', '4480', '5630']\n",
      "['AG20122020-02-18', 'AG2012', '2020-02-18', '4408', '4405', '4431', '4403', '4357']\n",
      "['AG20122020-02-17', 'AG2012', '2020-02-17', '4406', '4374', '4410', '4369', '2158']\n",
      "['AG20122020-02-14', 'AG2012', '2020-02-14', '4362', '4359', '4374', '4348', '3532']\n",
      "['AG20122020-02-13', 'AG2012', '2020-02-13', '4356', '4338', '4366', '4337', '3122']\n",
      "['AG20122020-02-12', 'AG2012', '2020-02-12', '4328', '4371', '4374', '4315', '5409']\n",
      "['AG20122020-02-11', 'AG2012', '2020-02-11', '4392', '4403', '4406', '4387', '1485']\n",
      "['AG20122020-02-10', 'AG2012', '2020-02-10', '4395', '4408', '4414', '4391', '917']\n",
      "['AG20122020-02-07', 'AG2012', '2020-02-07', '4398', '4416', '4423', '4390', '2205']\n",
      "['AG20122020-02-06', 'AG2012', '2020-02-06', '4389', '4383', '4392', '4373', '1384']\n",
      "['AG20122020-02-05', 'AG2012', '2020-02-05', '4398', '4389', '4406', '4361', '2003']\n",
      "['AG20122020-02-04', 'AG2012', '2020-02-04', '4399', '4398', '4410', '4379', '2028']\n",
      "['AG20122020-02-03', 'AG2012', '2020-02-03', '4412', '4430', '4447', '4380', '1295']\n",
      "['AG20122020-01-23', 'AG2012', '2020-01-23', '4369', '4373', '4394', '4359', '1272']\n",
      "['AG20122020-01-22', 'AG2012', '2020-01-22', '4370', '4411', '4417', '4337', '2438']\n",
      "25\n",
      "150\n",
      "['AG20122020-01-21', 'AG2012', '2020-01-21', '4446', '4410', '4459', '4408', '733']\n",
      "['AG20122020-01-20', 'AG2012', '2020-01-20', '4412', '4427', '4448', '4389', '1118']\n",
      "['AG20122020-01-17', 'AG2012', '2020-01-17', '4416', '4410', '4426', '4392', '889']\n",
      "['AG20122020-01-16', 'AG2012', '2020-01-16', '4400', '4394', '4430', '4371', '1124']\n",
      "['AG20122020-01-15', 'AG2012', '2020-01-15', '4391', '4360', '4408', '4358', '713']\n",
      "['AG20122020-01-14', 'AG2012', '2020-01-14', '4353', '4442', '4450', '4342', '1414']\n",
      "['AG20122020-01-13', 'AG2012', '2020-01-13', '4437', '4429', '4480', '4402', '1871']\n",
      "['AG20122020-01-10', 'AG2012', '2020-01-10', '4428', '4438', '4461', '4420', '2306']\n",
      "['AG20122020-01-09', 'AG2012', '2020-01-09', '4438', '4582', '4582', '4414', '3523']\n",
      "['AG20122020-01-08', 'AG2012', '2020-01-08', '4619', '4511', '4694', '4511', '2691']\n",
      "['AG20122020-01-07', 'AG2012', '2020-01-07', '4529', '4609', '4621', '4492', '2200']\n",
      "['AG20122020-01-06', 'AG2012', '2020-01-06', '4604', '4537', '4638', '4511', '1001']\n",
      "['AG20122020-01-03', 'AG2012', '2020-01-03', '4545', '4479', '4567', '4479', '753']\n",
      "['AG20122020-01-02', 'AG2012', '2020-01-02', '4465', '4527', '4527', '4305', '303']\n",
      "['AG20122019-12-31', 'AG2012', '2019-12-31', '4536', '4478', '4549', '4470', '736']\n",
      "['AG20122019-12-30', 'AG2012', '2019-12-30', '4480', '4478', '4510', '4471', '606']\n",
      "['AG20122019-12-27', 'AG2012', '2019-12-27', '4474', '4516', '4525', '4468', '670']\n",
      "['AG20122019-12-26', 'AG2012', '2019-12-26', '4510', '4449', '4527', '4438', '810']\n",
      "['AG20122019-12-25', 'AG2012', '2019-12-25', '4450', '4423', '4460', '4417', '400']\n",
      "['AG20122019-12-24', 'AG2012', '2019-12-24', '4416', '4368', '4431', '4355', '314']\n",
      "['AG20122019-12-23', 'AG2012', '2019-12-23', '4370', '4313', '4370', '4313', '254']\n",
      "['AG20122019-12-20', 'AG2012', '2019-12-20', '4310', '4274', '4315', '4274', '174']\n",
      "['AG20122019-12-19', 'AG2012', '2019-12-19', '4281', '4283', '4325', '4270', '132']\n",
      "['AG20122019-12-18', 'AG2012', '2019-12-18', '4302', '4305', '4314', '4278', '160']\n",
      "['AG20122019-12-17', 'AG2012', '2019-12-17', '4297', '4287', '4304', '4273', '128']\n"
     ]
    }
   ],
   "source": [
    "for i in url_list:\n",
    "    enter_intoDB(i)"
   ]
  },
  {
   "cell_type": "code",
   "execution_count": null,
   "metadata": {},
   "outputs": [],
   "source": []
  },
  {
   "cell_type": "code",
   "execution_count": 76,
   "metadata": {},
   "outputs": [],
   "source": [
    "from lxml import etree\n",
    "from lxml import html\n",
    "import re\n",
    "import sqlite3\n",
    "import requests\n",
    "\n",
    "\n",
    "response = requests.get('http://vip.stock.finance.sina.com.cn/q/view/vFutures_History.php?jys=czce&pz=MA&hy=MA1909&breed=AG2006&type=inner&start=2019-01-01&end=2020-07-01')\n",
    "response.encoding = 'gb18030'\n",
    "# print(response.text)\n",
    "with open('sinatest.html', 'w', encoding='gb18030')as f:\n",
    "    f.write(response.text)\n",
    "\n",
    "with open('sinatest.html', 'r')as a:\n",
    "    contend = a.read()\n",
    "\n",
    "tree = etree.HTML(contend)\n",
    "\n",
    "web_with_last_page = tree.xpath(\"//div[@class = 'historyList']//@href\")[-2]\n",
    "numpage = int(re.findall('page=(\\d)',web_with_last_page)[0])\n",
    "\n",
    "for i in range(2,numpage+1):\n",
    "    page_number = 'page=' + str(i)\n",
    "    new_url = re.sub('page=(\\d)',page_number,web_with_last_page,)\n",
    "    next_url = url_prefix + new_url\n",
    "    url_list.append(next_url)\n"
   ]
  },
  {
   "cell_type": "code",
   "execution_count": 66,
   "metadata": {},
   "outputs": [
    {
     "data": {
      "text/plain": [
       "['https://finance.sina.com.cn/futures/quotes/AG2006.shtml',\n",
       " '/q//view/vFutures_History.php?page=2&breed=AG2006&start=2019-01-01&end=2020-07-01&jys=czce&pz=MA&hy=MA1909&type=inner&name=大豆1109',\n",
       " '/q//view/vFutures_History.php?page=6&breed=AG2006&start=2019-01-01&end=2020-07-01&jys=czce&pz=MA&hy=MA1909&type=inner&name=大豆1109',\n",
       " '#']"
      ]
     },
     "execution_count": 66,
     "metadata": {},
     "output_type": "execute_result"
    }
   ],
   "source": [
    "tree.xpath(\"//div[@class = 'historyList']//@href\")"
   ]
  },
  {
   "cell_type": "code",
   "execution_count": 67,
   "metadata": {},
   "outputs": [],
   "source": [
    "test_web = web_with_last_page"
   ]
  },
  {
   "cell_type": "code",
   "execution_count": 75,
   "metadata": {},
   "outputs": [
    {
     "name": "stdout",
     "output_type": "stream",
     "text": [
      "http://vip.stock.finance.sina.com.cn//q//view/vFutures_History.php?page=2&breed=AG2006&start=2019-01-01&end=2020-07-01&jys=czce&pz=MA&hy=MA1909&type=inner&name=大豆1109\n",
      "http://vip.stock.finance.sina.com.cn//q//view/vFutures_History.php?page=3&breed=AG2006&start=2019-01-01&end=2020-07-01&jys=czce&pz=MA&hy=MA1909&type=inner&name=大豆1109\n",
      "http://vip.stock.finance.sina.com.cn//q//view/vFutures_History.php?page=4&breed=AG2006&start=2019-01-01&end=2020-07-01&jys=czce&pz=MA&hy=MA1909&type=inner&name=大豆1109\n",
      "http://vip.stock.finance.sina.com.cn//q//view/vFutures_History.php?page=5&breed=AG2006&start=2019-01-01&end=2020-07-01&jys=czce&pz=MA&hy=MA1909&type=inner&name=大豆1109\n",
      "http://vip.stock.finance.sina.com.cn//q//view/vFutures_History.php?page=6&breed=AG2006&start=2019-01-01&end=2020-07-01&jys=czce&pz=MA&hy=MA1909&type=inner&name=大豆1109\n"
     ]
    }
   ],
   "source": [
    "for i in range(2,numpage+1):\n",
    "    page_number = 'page=' + str(i)\n",
    "    new_url = re.sub('page=(\\d)',page_number,web_with_last_page,)\n",
    "    next_url = url_prefix + new_url\n",
    "    url_list.append(next_url)"
   ]
  },
  {
   "cell_type": "code",
   "execution_count": null,
   "metadata": {},
   "outputs": [],
   "source": []
  },
  {
   "cell_type": "code",
   "execution_count": 70,
   "metadata": {},
   "outputs": [
    {
     "data": {
      "text/plain": [
       "'/q//view/vFutures_History.php?page=3&breed=AG2006&start=2019-01-01&end=2020-07-01&jys=czce&pz=MA&hy=MA1909&type=inner&name=大豆1109'"
      ]
     },
     "execution_count": 70,
     "metadata": {},
     "output_type": "execute_result"
    }
   ],
   "source": [
    "sth = re.sub('page=(\\d)','page=3',web_with_last_page,)\n"
   ]
  },
  {
   "cell_type": "code",
   "execution_count": null,
   "metadata": {},
   "outputs": [],
   "source": []
  }
 ],
 "metadata": {
  "kernelspec": {
   "display_name": "Python 3",
   "language": "python",
   "name": "python3"
  },
  "language_info": {
   "codemirror_mode": {
    "name": "ipython",
    "version": 3
   },
   "file_extension": ".py",
   "mimetype": "text/x-python",
   "name": "python",
   "nbconvert_exporter": "python",
   "pygments_lexer": "ipython3",
   "version": "3.7.6"
  },
  "toc": {
   "base_numbering": 1,
   "nav_menu": {},
   "number_sections": true,
   "sideBar": true,
   "skip_h1_title": false,
   "title_cell": "Table of Contents",
   "title_sidebar": "Contents",
   "toc_cell": false,
   "toc_position": {},
   "toc_section_display": true,
   "toc_window_display": false
  }
 },
 "nbformat": 4,
 "nbformat_minor": 4
}
