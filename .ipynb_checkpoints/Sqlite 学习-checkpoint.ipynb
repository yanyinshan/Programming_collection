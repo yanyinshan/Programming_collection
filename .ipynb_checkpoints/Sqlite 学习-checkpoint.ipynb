{
 "cells": [
  {
   "cell_type": "markdown",
   "metadata": {},
   "source": [
    "# 基本流程\n",
    "连接数据库\n",
    "\n",
    "conn = sqlite3.connect(db_name)\n",
    "\n",
    "如果db_name存在，读取数据库\n",
    "\n",
    "如果db_name不存在，新建数据库\n",
    "\n",
    "设置row_factory，对查询到的数据，通过字段名获取列数据\n",
    "\n",
    "conn.row_factory = sqlite3.Row \n",
    "\n",
    "Tips：需要设置在conn.cursor()语句之前，若是不设置该语句，只能通过索引0,1,2...来获取内容。\n",
    "\n",
    "获取游标\n",
    "\n",
    "conn.cursor()\n",
    "\n",
    "用于执行SQL语句\n",
    "\n",
    "CRUD操作\n",
    "\n",
    "cursor.execute(sql_str)\n",
    "\n",
    "cursor.executemany(sql_str) 批量操作\n",
    "\n",
    "获取数据\n",
    "\n",
    "获取单条记录：fetchone()\n",
    "\n",
    "获取多条记录：fetchall()\n",
    "\n",
    "获取前n条数据：fetchmany(n)\n",
    "\n",
    "提交和关闭操作\n",
    "\n",
    "提交操作：conn.commit()\n",
    "\n",
    "关闭连接：conn.close()"
   ]
  },
  {
   "cell_type": "markdown",
   "metadata": {},
   "source": [
    "## 连接数据库"
   ]
  },
  {
   "cell_type": "code",
   "execution_count": 1,
   "metadata": {},
   "outputs": [],
   "source": [
    "import sqlite3\n",
    "conn = sqlite3.connect('EndlessRiver.db')"
   ]
  },
  {
   "cell_type": "markdown",
   "metadata": {},
   "source": [
    "## 获取游标"
   ]
  },
  {
   "cell_type": "code",
   "execution_count": 2,
   "metadata": {},
   "outputs": [],
   "source": [
    "cur = conn.cursor()"
   ]
  },
  {
   "cell_type": "code",
   "execution_count": 3,
   "metadata": {},
   "outputs": [
    {
     "name": "stdout",
     "output_type": "stream",
     "text": [
      "('3.31.1',)\n"
     ]
    }
   ],
   "source": [
    "# 获取数据库版本信息\n",
    "cur.execute(\"SELECT SQLITE_VERSION();\")\n",
    "print(cur.fetchone())"
   ]
  },
  {
   "cell_type": "markdown",
   "metadata": {},
   "source": [
    "## 获取表名"
   ]
  },
  {
   "cell_type": "code",
   "execution_count": 4,
   "metadata": {},
   "outputs": [
    {
     "name": "stdout",
     "output_type": "stream",
     "text": [
      "[('buysell',), ('sqlite_sequence',), ('type',), ('commodity',), ('transaction_',), ('transaction_cost',), ('FutureInformation',), ('Account_Bench',), ('Account',)]\n"
     ]
    }
   ],
   "source": [
    "cur.execute(\"SELECT name FROM sqlite_master WHERE type ='table';\")\n",
    "xx = cur.fetchall()\n",
    "print(xx)"
   ]
  },
  {
   "cell_type": "code",
   "execution_count": 5,
   "metadata": {},
   "outputs": [
    {
     "data": {
      "text/plain": [
       "('buysell',)"
      ]
     },
     "execution_count": 5,
     "metadata": {},
     "output_type": "execute_result"
    }
   ],
   "source": [
    "xx[0]"
   ]
  },
  {
   "cell_type": "code",
   "execution_count": 13,
   "metadata": {},
   "outputs": [],
   "source": [
    "conn.commit()"
   ]
  },
  {
   "cell_type": "code",
   "execution_count": 14,
   "metadata": {},
   "outputs": [],
   "source": [
    "conn.close()"
   ]
  },
  {
   "cell_type": "markdown",
   "metadata": {},
   "source": [
    "# 实际例子"
   ]
  },
  {
   "cell_type": "code",
   "execution_count": 16,
   "metadata": {},
   "outputs": [],
   "source": [
    "conn = sqlite3.connect('TestDB.db')\n",
    "cur = conn.cursor()"
   ]
  },
  {
   "cell_type": "markdown",
   "metadata": {},
   "source": [
    "## 删表\n"
   ]
  },
  {
   "cell_type": "code",
   "execution_count": 17,
   "metadata": {},
   "outputs": [
    {
     "data": {
      "text/plain": [
       "<sqlite3.Cursor at 0x29a04a10960>"
      ]
     },
     "execution_count": 17,
     "metadata": {},
     "output_type": "execute_result"
    }
   ],
   "source": [
    "cur.execute(\"DROP TABLE IF EXISTS book;\")"
   ]
  },
  {
   "cell_type": "markdown",
   "metadata": {},
   "source": [
    "## 创建表"
   ]
  },
  {
   "cell_type": "code",
   "execution_count": 18,
   "metadata": {},
   "outputs": [
    {
     "data": {
      "text/plain": [
       "<sqlite3.Cursor at 0x29a04a10960>"
      ]
     },
     "execution_count": 18,
     "metadata": {},
     "output_type": "execute_result"
    }
   ],
   "source": [
    "cur.execute(\"CREATE TABLE book(id INT, name TEXT, Price Double);\")"
   ]
  },
  {
   "cell_type": "code",
   "execution_count": 19,
   "metadata": {},
   "outputs": [
    {
     "data": {
      "text/plain": [
       "[('book',)]"
      ]
     },
     "execution_count": 19,
     "metadata": {},
     "output_type": "execute_result"
    }
   ],
   "source": [
    "cur.execute(\"SELECT name FROM sqlite_master WHERE type ='table';\").fetchall()"
   ]
  },
  {
   "cell_type": "markdown",
   "metadata": {},
   "source": [
    "## 插入数据"
   ]
  },
  {
   "cell_type": "markdown",
   "metadata": {},
   "source": [
    "### 单条插入数据"
   ]
  },
  {
   "cell_type": "code",
   "execution_count": 20,
   "metadata": {},
   "outputs": [
    {
     "data": {
      "text/plain": [
       "<sqlite3.Cursor at 0x29a04a10960>"
      ]
     },
     "execution_count": 20,
     "metadata": {},
     "output_type": "execute_result"
    }
   ],
   "source": [
    "cur.execute(\"INSERT INTO book VALUES(1,'肖秀荣考研书系列:肖秀荣(2017)考研政治命题人终极预测4套卷',14.40);\")\n",
    "cur.execute(\"INSERT INTO book VALUES(2,'法医秦明作品集:幸存者+清道夫+尸语者+无声的证词+第十一根手指(套装共5册) (两种封面随机发货)',100.00);\")\n",
    "cur.execute(\"INSERT INTO book VALUES(3,'活着本来单纯:丰子恺散文漫画精品集(收藏本)',30.90);\")\n",
    "cur.execute(\"INSERT INTO book VALUES(4,'自在独行:贾平凹的独行世界',26.80);\")\n",
    "cur.execute(\"INSERT INTO book VALUES(5,'当你的才华还撑不起你的梦想时',23.00);\")\n",
    "cur.execute(\"INSERT INTO book VALUES(6,'巨人的陨落(套装共3册)',84.90);\")\n",
    "cur.execute(\"INSERT INTO book VALUES(7,'孤独深处(收录雨果奖获奖作品《北京折叠》)',21.90);\")\n",
    "cur.execute(\"INSERT INTO book VALUES(8,'世界知名企业员工指定培训教材:所谓情商高,就是会说话',22.00);\")"
   ]
  },
  {
   "cell_type": "markdown",
   "metadata": {},
   "source": [
    "### 批量插入\n",
    "**转换为tuple**"
   ]
  },
  {
   "cell_type": "code",
   "execution_count": 21,
   "metadata": {},
   "outputs": [
    {
     "data": {
      "text/plain": [
       "<sqlite3.Cursor at 0x29a04a10960>"
      ]
     },
     "execution_count": 21,
     "metadata": {},
     "output_type": "execute_result"
    }
   ],
   "source": [
    "more_books = (\n",
    "    (9, '人间草木', 30.00),\n",
    "    (10,'你的善良必须有点锋芒', 20.50),\n",
    "    (11, '这么慢,那么美', 24.80),\n",
    "    (12, '考拉小巫的英语学习日记:写给为梦想而奋斗的人(全新修订版)', 23.90)\n",
    ")\n",
    "cur.executemany(\"INSERT INTO book VALUES(?, ?, ?)\", more_books)"
   ]
  },
  {
   "cell_type": "code",
   "execution_count": 22,
   "metadata": {},
   "outputs": [],
   "source": [
    "conn.commit()"
   ]
  },
  {
   "cell_type": "markdown",
   "metadata": {},
   "source": [
    "## 查询数据"
   ]
  },
  {
   "cell_type": "code",
   "execution_count": 23,
   "metadata": {},
   "outputs": [
    {
     "data": {
      "text/plain": [
       "[(1, '肖秀荣考研书系列:肖秀荣(2017)考研政治命题人终极预测4套卷', 14.4),\n",
       " (2, '法医秦明作品集:幸存者+清道夫+尸语者+无声的证词+第十一根手指(套装共5册) (两种封面随机发货)', 100.0),\n",
       " (3, '活着本来单纯:丰子恺散文漫画精品集(收藏本)', 30.9),\n",
       " (4, '自在独行:贾平凹的独行世界', 26.8),\n",
       " (5, '当你的才华还撑不起你的梦想时', 23.0),\n",
       " (6, '巨人的陨落(套装共3册)', 84.9),\n",
       " (7, '孤独深处(收录雨果奖获奖作品《北京折叠》)', 21.9),\n",
       " (8, '世界知名企业员工指定培训教材:所谓情商高,就是会说话', 22.0),\n",
       " (9, '人间草木', 30.0),\n",
       " (10, '你的善良必须有点锋芒', 20.5),\n",
       " (11, '这么慢,那么美', 24.8),\n",
       " (12, '考拉小巫的英语学习日记:写给为梦想而奋斗的人(全新修订版)', 23.9)]"
      ]
     },
     "execution_count": 23,
     "metadata": {},
     "output_type": "execute_result"
    }
   ],
   "source": [
    "# 获取单条记录\n",
    "cur.execute('SELECT * FROM book').fetchall()"
   ]
  },
  {
   "cell_type": "code",
   "execution_count": 24,
   "metadata": {},
   "outputs": [],
   "source": [
    "rows = cur.execute('SELECT * FROM book').fetchall()"
   ]
  },
  {
   "cell_type": "code",
   "execution_count": 25,
   "metadata": {},
   "outputs": [
    {
     "data": {
      "text/plain": [
       "[(1, '肖秀荣考研书系列:肖秀荣(2017)考研政治命题人终极预测4套卷', 14.4),\n",
       " (2, '法医秦明作品集:幸存者+清道夫+尸语者+无声的证词+第十一根手指(套装共5册) (两种封面随机发货)', 100.0),\n",
       " (3, '活着本来单纯:丰子恺散文漫画精品集(收藏本)', 30.9),\n",
       " (4, '自在独行:贾平凹的独行世界', 26.8),\n",
       " (5, '当你的才华还撑不起你的梦想时', 23.0),\n",
       " (6, '巨人的陨落(套装共3册)', 84.9),\n",
       " (7, '孤独深处(收录雨果奖获奖作品《北京折叠》)', 21.9),\n",
       " (8, '世界知名企业员工指定培训教材:所谓情商高,就是会说话', 22.0),\n",
       " (9, '人间草木', 30.0),\n",
       " (10, '你的善良必须有点锋芒', 20.5),\n",
       " (11, '这么慢,那么美', 24.8),\n",
       " (12, '考拉小巫的英语学习日记:写给为梦想而奋斗的人(全新修订版)', 23.9)]"
      ]
     },
     "execution_count": 25,
     "metadata": {},
     "output_type": "execute_result"
    }
   ],
   "source": [
    "rows"
   ]
  },
  {
   "cell_type": "code",
   "execution_count": 26,
   "metadata": {},
   "outputs": [
    {
     "data": {
      "text/plain": [
       "list"
      ]
     },
     "execution_count": 26,
     "metadata": {},
     "output_type": "execute_result"
    }
   ],
   "source": [
    "type(rows)"
   ]
  },
  {
   "cell_type": "code",
   "execution_count": 27,
   "metadata": {},
   "outputs": [
    {
     "name": "stdout",
     "output_type": "stream",
     "text": [
      "(1, '肖秀荣考研书系列:肖秀荣(2017)考研政治命题人终极预测4套卷', 14.4)\n",
      "(2, '法医秦明作品集:幸存者+清道夫+尸语者+无声的证词+第十一根手指(套装共5册) (两种封面随机发货)', 100.0)\n",
      "(3, '活着本来单纯:丰子恺散文漫画精品集(收藏本)', 30.9)\n",
      "(4, '自在独行:贾平凹的独行世界', 26.8)\n",
      "(5, '当你的才华还撑不起你的梦想时', 23.0)\n",
      "(6, '巨人的陨落(套装共3册)', 84.9)\n",
      "(7, '孤独深处(收录雨果奖获奖作品《北京折叠》)', 21.9)\n",
      "(8, '世界知名企业员工指定培训教材:所谓情商高,就是会说话', 22.0)\n",
      "(9, '人间草木', 30.0)\n",
      "(10, '你的善良必须有点锋芒', 20.5)\n",
      "(11, '这么慢,那么美', 24.8)\n",
      "(12, '考拉小巫的英语学习日记:写给为梦想而奋斗的人(全新修订版)', 23.9)\n"
     ]
    }
   ],
   "source": [
    "for each in rows:\n",
    "    print(each)"
   ]
  },
  {
   "cell_type": "code",
   "execution_count": 28,
   "metadata": {},
   "outputs": [],
   "source": [
    "conn.commit()\n",
    "conn.close()"
   ]
  },
  {
   "cell_type": "markdown",
   "metadata": {},
   "source": [
    "# 多表连接"
   ]
  },
  {
   "cell_type": "code",
   "execution_count": null,
   "metadata": {},
   "outputs": [],
   "source": []
  }
 ],
 "metadata": {
  "kernelspec": {
   "display_name": "Python 3",
   "language": "python",
   "name": "python3"
  },
  "language_info": {
   "codemirror_mode": {
    "name": "ipython",
    "version": 3
   },
   "file_extension": ".py",
   "mimetype": "text/x-python",
   "name": "python",
   "nbconvert_exporter": "python",
   "pygments_lexer": "ipython3",
   "version": "3.7.6"
  },
  "toc": {
   "base_numbering": 1,
   "nav_menu": {},
   "number_sections": true,
   "sideBar": true,
   "skip_h1_title": false,
   "title_cell": "Table of Contents",
   "title_sidebar": "Contents",
   "toc_cell": false,
   "toc_position": {},
   "toc_section_display": true,
   "toc_window_display": true
  }
 },
 "nbformat": 4,
 "nbformat_minor": 4
}
